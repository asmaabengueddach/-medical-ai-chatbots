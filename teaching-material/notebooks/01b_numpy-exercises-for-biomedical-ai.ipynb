{
  "nbformat": 4,
  "nbformat_minor": 0,
  "metadata": {
    "colab": {
      "provenance": []
    },
    "kernelspec": {
      "name": "python3",
      "display_name": "Python 3"
    },
    "language_info": {
      "name": "python"
    }
  },
  "cells": [
    {
      "cell_type": "markdown",
      "source": [
        "##**Fiche d'exercices : NumPy (1h30)**"
      ],
      "metadata": {
        "id": "NShP6EMezkT7"
      }
    },
    {
      "cell_type": "markdown",
      "source": [
        "###**Introduction (15 minutes) : Rappel des concepts clés**\n",
        "Pour bien démarrer, nous allons réviser rapidement les notions de base de NumPy avec des exemples simples.\n",
        "\n",
        "---\n",
        "\n"
      ],
      "metadata": {
        "id": "G21dzpHdz6L_"
      }
    },
    {
      "cell_type": "markdown",
      "source": [
        "####**1.1. Tableaux NumPy (1-2 minutes)**\n",
        "\n",
        "Un tableau NumPy est une structure de données optimisée pour les calculs numériques. Contrairement aux listes Python, il permet de réaliser des opérations plus efficacement, notamment sur des grandes quantités de données.\n",
        "\n",
        "**Exemple :**\n",
        "\n"
      ],
      "metadata": {
        "id": "vMR1dCZx0RXJ"
      }
    },
    {
      "cell_type": "code",
      "source": [
        "import numpy as np\n",
        "arr = np.array([1, 2, 3, 4, 5])\n",
        "print(arr)  # Résultat : [1 2 3 4 5]"
      ],
      "metadata": {
        "id": "RZcr_DtY0ttF"
      },
      "execution_count": null,
      "outputs": []
    },
    {
      "cell_type": "markdown",
      "source": [
        "\n",
        "---\n"
      ],
      "metadata": {
        "id": "5CXTIM031FRK"
      }
    },
    {
      "cell_type": "markdown",
      "source": [
        "####1.2. Création de tableaux (5-6 minutes)\n",
        "NumPy propose plusieurs méthodes pour créer des tableaux rapidement.\n",
        "1.  **`np.zeros(shape)`** : Crée un tableau de zéros."
      ],
      "metadata": {
        "id": "ut7K79mg1RgS"
      }
    },
    {
      "cell_type": "code",
      "source": [
        "arr = np.zeros(5)\n",
        "arr"
      ],
      "metadata": {
        "collapsed": true,
        "id": "4anMVCrk037L"
      },
      "execution_count": null,
      "outputs": []
    },
    {
      "cell_type": "markdown",
      "source": [
        "2.   `np.ones(shape)` : Crée un tableau de uns."
      ],
      "metadata": {
        "id": "X9o4ylE619Sw"
      }
    },
    {
      "cell_type": "code",
      "source": [
        "arr = np.ones(3)\n",
        "arr"
      ],
      "metadata": {
        "id": "45JL5SI11xh8"
      },
      "execution_count": null,
      "outputs": []
    },
    {
      "cell_type": "markdown",
      "source": [
        "3. `np.full(shape, value)` : Crée un tableau avec une valeur spécifique."
      ],
      "metadata": {
        "id": "w11tsCUY2dRW"
      }
    },
    {
      "cell_type": "code",
      "source": [
        "arr = np.full(4, 7)\n",
        "arr"
      ],
      "metadata": {
        "id": "E_XcI3r42OR6"
      },
      "execution_count": null,
      "outputs": []
    },
    {
      "cell_type": "markdown",
      "source": [
        "4. `np.arange(start, stop, step)` : Crée une séquence avec un pas défini."
      ],
      "metadata": {
        "id": "ao3XykB_2xMd"
      }
    },
    {
      "cell_type": "code",
      "source": [
        "arr = np.arange(0, 10, 2)\n",
        "arr"
      ],
      "metadata": {
        "id": "FjaOuSZN2sM0"
      },
      "execution_count": null,
      "outputs": []
    },
    {
      "cell_type": "markdown",
      "source": [
        "5. `np.linspace(start, stop, num)` : Crée une séquence de points également espacés."
      ],
      "metadata": {
        "id": "lO-y6cKy2-EU"
      }
    },
    {
      "cell_type": "code",
      "source": [
        "arr = np.linspace(0, 1, 5)\n",
        "arr"
      ],
      "metadata": {
        "id": "TDfKNQ9P244b"
      },
      "execution_count": null,
      "outputs": []
    },
    {
      "cell_type": "markdown",
      "source": [
        "---"
      ],
      "metadata": {
        "id": "bi907vRw3UpC"
      }
    },
    {
      "cell_type": "markdown",
      "source": [
        "####**1.3. Création de matrices (3-4 minutes)**\n",
        "\n",
        "Les matrices sont des tableaux 2D. En NumPy, voici comment créer des matrices :\n",
        "\n",
        "1. `np.zeros((3, 3))` : Crée une matrice 3x3 de zéros."
      ],
      "metadata": {
        "id": "nAyWyyod3bF4"
      }
    },
    {
      "cell_type": "code",
      "source": [
        "arr_2d = np.zeros((3, 3))\n",
        "arr_2d"
      ],
      "metadata": {
        "id": "jMO2mCYd3Fjw"
      },
      "execution_count": null,
      "outputs": []
    },
    {
      "cell_type": "markdown",
      "source": [
        "2. `np.ones((2, 4))` : Crée une matrice 2x4 de uns."
      ],
      "metadata": {
        "id": "j5mBdUCP38wq"
      }
    },
    {
      "cell_type": "code",
      "source": [
        "arr_2d = np.ones((2, 4))\n",
        "arr_2d"
      ],
      "metadata": {
        "id": "l04AG0_zHtc-"
      },
      "execution_count": null,
      "outputs": []
    },
    {
      "cell_type": "markdown",
      "source": [
        "3. `np.arange(9).reshape(3, 3)` : Crée une matrice 3x3 avec des valeurs de 0 à 8."
      ],
      "metadata": {
        "id": "1nPfXzjZ4T3w"
      }
    },
    {
      "cell_type": "code",
      "source": [
        "arr_2d = np.arange(9).reshape(3, 3)\n",
        "arr_2d"
      ],
      "metadata": {
        "id": "O2Y7opvb30rQ"
      },
      "execution_count": null,
      "outputs": []
    },
    {
      "cell_type": "markdown",
      "source": [
        "4. `np.eye(3)` : Crée une matrice identité 3x3."
      ],
      "metadata": {
        "id": "hICbaK_a48Sq"
      }
    },
    {
      "cell_type": "code",
      "source": [
        "arr_2d = np.eye(3)\n",
        "arr_2d"
      ],
      "metadata": {
        "id": "-3YPQmez4cm7"
      },
      "execution_count": null,
      "outputs": []
    },
    {
      "cell_type": "markdown",
      "source": [
        "---"
      ],
      "metadata": {
        "id": "OT3nPe_d5Exq"
      }
    },
    {
      "cell_type": "markdown",
      "source": [
        "####**1.4. Indexation et slicing (3-4 minutes)**\n",
        "Indexation permet d'accéder à un élément spécifique, et slicing permet de sélectionner des sous-ensembles de valeurs.\n",
        "*   Exemple d'indexation :"
      ],
      "metadata": {
        "id": "EoBhebkn5In8"
      }
    },
    {
      "cell_type": "code",
      "source": [
        "arr = np.array([10, 20, 30, 40, 50])\n",
        "print(arr[2])  # Output attendu : 30"
      ],
      "metadata": {
        "id": "Tj05YLoP5HiW"
      },
      "execution_count": null,
      "outputs": []
    },
    {
      "cell_type": "markdown",
      "source": [
        "\n",
        "*   Exemple de slicing :\n",
        "\n"
      ],
      "metadata": {
        "id": "2iV5makr5dHQ"
      }
    },
    {
      "cell_type": "code",
      "source": [
        "arr = np.array([10, 20, 30, 40, 50])\n",
        "print(arr[1:4])  # Output attendu : [20 30 40]"
      ],
      "metadata": {
        "id": "1dDnt7Gj5lYa"
      },
      "execution_count": null,
      "outputs": []
    },
    {
      "cell_type": "markdown",
      "source": [
        "\n",
        "*   Slicing sur une matrice 2D :\n"
      ],
      "metadata": {
        "id": "hoZNYaBq5yng"
      }
    },
    {
      "cell_type": "code",
      "source": [
        "arr_2d = np.array([[1, 2, 3], [4, 5, 6], [7, 8, 9]])\n",
        "print(arr_2d[1, :])  # Output attendu : [4 5 6]"
      ],
      "metadata": {
        "id": "_W-NZhP155ej"
      },
      "execution_count": null,
      "outputs": []
    },
    {
      "cell_type": "markdown",
      "source": [
        "####**1.5. Opérations mathématiques sur les tableaux (3-4 minutes)**\n",
        "NumPy permet de réaliser des opérations mathématiques de manière rapide et efficace sur des tableaux entiers.\n",
        "*   Somme des éléments : `np.sum()`\n",
        "\n"
      ],
      "metadata": {
        "id": "64r5LnpN7CJ2"
      }
    },
    {
      "cell_type": "code",
      "source": [
        "arr = np.array([1, 2, 3, 4])\n",
        "print(np.sum(arr))  # Output attendu : 10"
      ],
      "metadata": {
        "id": "QzcdHppk7UtZ"
      },
      "execution_count": null,
      "outputs": []
    },
    {
      "cell_type": "markdown",
      "source": [
        "\n",
        "*   Moyenne des éléments : np.mean()\n",
        "\n"
      ],
      "metadata": {
        "id": "bJlc1-Rg7WD2"
      }
    },
    {
      "cell_type": "code",
      "source": [
        "arr = np.array([1, 2, 3, 4])\n",
        "print(np.mean(arr))  # Output attendu : 2.5"
      ],
      "metadata": {
        "id": "ukBTiqN37cFN"
      },
      "execution_count": null,
      "outputs": []
    },
    {
      "cell_type": "markdown",
      "source": [
        "*   Écart-type des éléments : np.std()"
      ],
      "metadata": {
        "id": "nOwdJ44p7ktW"
      }
    },
    {
      "cell_type": "code",
      "source": [
        "arr = np.array([1, 2, 3, 4])\n",
        "print(np.std(arr))  # Output attendu : 1.11803398875"
      ],
      "metadata": {
        "id": "sSX3rxXK7qnR"
      },
      "execution_count": null,
      "outputs": []
    },
    {
      "cell_type": "markdown",
      "source": [
        "##**Exercices pratiques (1h15)**\n",
        "Maintenant que vous avez révisé les concepts clés, passons à la partie pratique. Complétez les sections de code en suivant les indications."
      ],
      "metadata": {
        "id": "1I7oSw9A7zBN"
      }
    },
    {
      "cell_type": "markdown",
      "source": [
        "---"
      ],
      "metadata": {
        "id": "iRS1PE8a7wbv"
      }
    },
    {
      "cell_type": "markdown",
      "source": [
        "1. Créez un tableau de 10 zéros.\n",
        "\n",
        "*   Code :\n"
      ],
      "metadata": {
        "id": "isTGTEuC8IYd"
      }
    },
    {
      "cell_type": "code",
      "source": [
        "# Code ici\n"
      ],
      "metadata": {
        "id": "ONfcmTj37yXW"
      },
      "execution_count": 14,
      "outputs": []
    },
    {
      "cell_type": "markdown",
      "source": [
        "Output:\n",
        "[0. 0. 0. 0. 0. 0. 0. 0. 0. 0.]\n"
      ],
      "metadata": {
        "id": "pC2s1dTn_f05"
      }
    },
    {
      "cell_type": "markdown",
      "source": [
        "2. Créez un tableau de 10 uns.\n",
        "*   Code\n",
        "\n",
        "\n"
      ],
      "metadata": {
        "id": "SHMM4zDb8qP1"
      }
    },
    {
      "cell_type": "code",
      "source": [
        "# Code ici\n"
      ],
      "metadata": {
        "id": "guWXLPkJ8mGS"
      },
      "execution_count": 15,
      "outputs": []
    },
    {
      "cell_type": "markdown",
      "source": [
        "Output: [1. 1. 1. 1. 1. 1. 1. 1. 1. 1.]"
      ],
      "metadata": {
        "id": "pyC5dhl8_vCR"
      }
    },
    {
      "cell_type": "markdown",
      "source": [
        "3. Créez un tableau de 10 de 5.\n",
        "*   Code"
      ],
      "metadata": {
        "id": "Z5TTn2m88-fc"
      }
    },
    {
      "cell_type": "code",
      "source": [
        "# Code ici\n"
      ],
      "metadata": {
        "id": "nC3ry65wADjI"
      },
      "execution_count": 17,
      "outputs": []
    },
    {
      "cell_type": "markdown",
      "source": [
        "Output:"
      ],
      "metadata": {
        "id": "rSydHBfn_-uY"
      }
    },
    {
      "cell_type": "markdown",
      "source": [
        "[5. 5. 5. 5. 5. 5. 5. 5. 5. 5.]\n"
      ],
      "metadata": {
        "id": "DkBtFNJf_-Sl"
      }
    },
    {
      "cell_type": "markdown",
      "source": [
        "4. Créez un tableau contenant les entiers de 10 à 50.\n",
        "*   Code\n",
        "\n"
      ],
      "metadata": {
        "id": "59TCKreD9SYB"
      }
    },
    {
      "cell_type": "code",
      "source": [
        "# Code ici\n"
      ],
      "metadata": {
        "id": "YKoKTG2F846v"
      },
      "execution_count": 16,
      "outputs": []
    },
    {
      "cell_type": "markdown",
      "source": [
        "Output:\n",
        "[10 11 12 13 14 15 16 17 18 19 20 21 22 23 24 25 26 27 28 29 30 31 32 33 34 35 36 37 38 39 40 41 42 43 44 45 46 47 48 49 50]\n"
      ],
      "metadata": {
        "id": "32UhS7kQANm2"
      }
    },
    {
      "cell_type": "markdown",
      "source": [
        "---"
      ],
      "metadata": {
        "id": "lKnoDr9E9gJ-"
      }
    },
    {
      "cell_type": "markdown",
      "source": [
        "####**Exercice 2 : Manipulation de matrices (10 minutes)**\n",
        "1. Créez une matrice 3x3 avec des valeurs allant de 0 à 8.\n",
        "\n",
        "*   Code :\n"
      ],
      "metadata": {
        "id": "05duxUwv9msb"
      }
    },
    {
      "cell_type": "code",
      "source": [
        "# Code ici\n"
      ],
      "metadata": {
        "id": "hY6EZ_MS9dNn"
      },
      "execution_count": null,
      "outputs": []
    },
    {
      "cell_type": "markdown",
      "source": [
        "[[0 1 2]\n",
        " [3 4 5]\n",
        " [6 7 8]]\n"
      ],
      "metadata": {
        "id": "giogOgekAxZw"
      }
    },
    {
      "cell_type": "markdown",
      "source": [
        "2. Créez une matrice identité 3x3.\n",
        "*   Code :"
      ],
      "metadata": {
        "id": "6HHihhaNA6GW"
      }
    },
    {
      "cell_type": "code",
      "source": [
        "# Code ici\n"
      ],
      "metadata": {
        "id": "k05H07qN-fgo"
      },
      "execution_count": null,
      "outputs": []
    },
    {
      "cell_type": "markdown",
      "source": [
        "[[1. 0. 0.]\n",
        " [0. 1. 0.]\n",
        " [0. 0. 1.]]\n"
      ],
      "metadata": {
        "id": "vvMXMlMyBEji"
      }
    },
    {
      "cell_type": "markdown",
      "source": [
        "3. Utilisez NumPy pour générer un nombre aléatoire entre 0 et 1.\n",
        "*   Code :\n"
      ],
      "metadata": {
        "id": "X_4a_LvM_BAV"
      }
    },
    {
      "cell_type": "code",
      "source": [
        "# Code ici\n"
      ],
      "metadata": {
        "id": "LCvy2cSI_C8E"
      },
      "execution_count": null,
      "outputs": []
    },
    {
      "cell_type": "markdown",
      "source": [
        "0.528847256223914\n"
      ],
      "metadata": {
        "id": "8Y816QLA_R_o"
      }
    },
    {
      "cell_type": "markdown",
      "source": [
        "4. Générez un tableau de 25 nombres aléatoires selon une distribution normale standard.\n",
        "*   Code :"
      ],
      "metadata": {
        "id": "tnpnug-ZBOpb"
      }
    },
    {
      "cell_type": "code",
      "source": [
        "# Code ici\n"
      ],
      "metadata": {
        "id": "0pyNMIjdBK_K"
      },
      "execution_count": null,
      "outputs": []
    },
    {
      "cell_type": "markdown",
      "source": [
        "[ 0.123  1.234 -0.432 ... ]\n"
      ],
      "metadata": {
        "id": "WbnM0agkBZJE"
      }
    },
    {
      "cell_type": "markdown",
      "source": [
        "---\n"
      ],
      "metadata": {
        "id": "ftvFdWYCBg0I"
      }
    },
    {
      "cell_type": "markdown",
      "source": [
        "###Exercice 3 : Indexation et slicing (15 minutes)\n",
        "À partir de la matrice suivante :\n"
      ],
      "metadata": {
        "id": "HTIYyySsBkw1"
      }
    },
    {
      "cell_type": "code",
      "source": [
        "mat = np.arange(1, 26).reshape(5, 5)"
      ],
      "metadata": {
        "id": "oFLHxph0BgC1"
      },
      "execution_count": null,
      "outputs": []
    },
    {
      "cell_type": "markdown",
      "source": [
        "1. Sélectionnez les éléments de la 3e à la dernière ligne, de la 2e à la dernière colonne.\n",
        "*   Code\n",
        "\n"
      ],
      "metadata": {
        "id": "x4gKfcrOBvVP"
      }
    },
    {
      "cell_type": "code",
      "source": [
        "# Code ici\n"
      ],
      "metadata": {
        "id": "OGxzznh_B6tx"
      },
      "execution_count": null,
      "outputs": []
    },
    {
      "cell_type": "markdown",
      "source": [
        "Output attendu:\n",
        "\n",
        "\n",
        "array([[12, 13, 14, 15],\n",
        "       [17, 18, 19, 20],\n",
        "       [22, 23, 24, 25]])"
      ],
      "metadata": {
        "id": "x0UuM4LvB-GB"
      }
    },
    {
      "cell_type": "markdown",
      "source": [
        "2. Sélectionnez l'élément à la position [3, 4].\n",
        "\n",
        "\n",
        "*   Code\n",
        "\n"
      ],
      "metadata": {
        "id": "nj_x-cclCEir"
      }
    },
    {
      "cell_type": "code",
      "source": [
        "# Code ici\n"
      ],
      "metadata": {
        "id": "9fm6drqiCGBT"
      },
      "execution_count": null,
      "outputs": []
    },
    {
      "cell_type": "markdown",
      "source": [
        "Output attendu :\n",
        "\n",
        "20"
      ],
      "metadata": {
        "id": "nBLtlnIICTLV"
      }
    },
    {
      "cell_type": "markdown",
      "source": [
        "3. Sélectionnez les trois premiers éléments de la 2e colonne.\n",
        "\n",
        "\n",
        "*   Code\n",
        "\n"
      ],
      "metadata": {
        "id": "ONXF86yJCYmb"
      }
    },
    {
      "cell_type": "code",
      "source": [
        "# Code ici\n"
      ],
      "metadata": {
        "id": "sIQRVlaZCUrZ"
      },
      "execution_count": null,
      "outputs": []
    },
    {
      "cell_type": "markdown",
      "source": [
        "Output attendu :\n",
        "\n",
        "[2 7 12]"
      ],
      "metadata": {
        "id": "PpGM0UGkCiuJ"
      }
    },
    {
      "cell_type": "markdown",
      "source": [
        "---\n"
      ],
      "metadata": {
        "id": "s4RK-xsvCvWv"
      }
    },
    {
      "cell_type": "markdown",
      "source": [
        "###Exercice 4 : Opérations mathématiques (15 minutes)\n",
        "1. Obtenez la somme de toutes les valeurs dans mat.\n",
        "\n",
        "*   Code :\n"
      ],
      "metadata": {
        "id": "NsJa0xH6CxJI"
      }
    },
    {
      "cell_type": "code",
      "source": [
        "# Code ici\n"
      ],
      "metadata": {
        "id": "e4nfO8EgCwWZ"
      },
      "execution_count": null,
      "outputs": []
    },
    {
      "cell_type": "markdown",
      "source": [
        "Output attendu :\n",
        "325"
      ],
      "metadata": {
        "id": "SLXdwh-2DHPk"
      }
    },
    {
      "cell_type": "markdown",
      "source": [
        "2. Calculez l'écart-type des valeurs dans `mat`.\n",
        "*   Code :\n"
      ],
      "metadata": {
        "id": "YCwb4ktuDMHP"
      }
    },
    {
      "cell_type": "code",
      "source": [
        "# Code ici\n"
      ],
      "metadata": {
        "id": "yI6GNuQnDIpF"
      },
      "execution_count": null,
      "outputs": []
    },
    {
      "cell_type": "markdown",
      "source": [
        "Output attendu :\n",
        "\n",
        "7.211102550927978"
      ],
      "metadata": {
        "id": "V86yTGy-DVUk"
      }
    },
    {
      "cell_type": "markdown",
      "source": [
        "3. Obtenez la somme de chaque colonne dans `mat`.\n",
        "*   Code :\n",
        "\n",
        "\n"
      ],
      "metadata": {
        "id": "a9KNGFrZDbhr"
      }
    },
    {
      "cell_type": "code",
      "source": [
        "# Code ici\n"
      ],
      "metadata": {
        "id": "vAl5f_gbDYfx"
      },
      "execution_count": 19,
      "outputs": []
    },
    {
      "cell_type": "markdown",
      "source": [
        "Output attendu:\n",
        "[55. 60. 65. 70. 75.]"
      ],
      "metadata": {
        "id": "U8-uJ8o3Drgw"
      }
    },
    {
      "cell_type": "markdown",
      "source": [
        "---"
      ],
      "metadata": {
        "id": "FTWpiVaYDx73"
      }
    },
    {
      "cell_type": "markdown",
      "source": [
        "###**Exercice 5 : Manipulation aléatoire (15 minutes)**\n",
        "1. Créez un tableau de 100 valeurs comprises entre 0.01 et 1.00, réparties uniformément. Mélangez ensuite ces valeurs aléatoirement et placez-les dans une matrice 10x10.\n",
        "\n",
        "*   Code :\n"
      ],
      "metadata": {
        "id": "Zg4RmTHnDzpT"
      }
    },
    {
      "cell_type": "code",
      "source": [
        "# Code ici\n"
      ],
      "metadata": {
        "id": "_PmfYZuoDqvf"
      },
      "execution_count": null,
      "outputs": []
    },
    {
      "cell_type": "markdown",
      "source": [
        "[[0.45 0.13 ...] [0.23 ...] ... ]\n"
      ],
      "metadata": {
        "id": "reZ_5oJPO6Gd"
      }
    },
    {
      "cell_type": "markdown",
      "source": [
        "2. Créez un tableau de 20 points également espacés entre 0 et 1.\n",
        "\n",
        "*   Code :"
      ],
      "metadata": {
        "id": "u0zLJBZMEMcn"
      }
    },
    {
      "cell_type": "code",
      "source": [
        "# Code ici\n"
      ],
      "metadata": {
        "id": "75fVIv-SEVP-"
      },
      "execution_count": null,
      "outputs": []
    },
    {
      "cell_type": "markdown",
      "source": [
        "Output attendu :\n",
        "[0.   0.05 ... 1.  ]"
      ],
      "metadata": {
        "id": "4Cvf2JEdEYEx"
      }
    },
    {
      "cell_type": "markdown",
      "source": [
        "###Synthèse (5 minutes)\n",
        "Rappelez-vous des concepts suivants :\n",
        "\n",
        "1. La différence entre `np.arange()` et `np.linspace()`.\n",
        "2. Comment utiliser `reshape()` pour manipuler les dimensions des tableaux.\n",
        "3. La génération de nombres aléatoires avec `np.random`."
      ],
      "metadata": {
        "id": "ys0NqcG2Ev6d"
      }
    }
  ]
}