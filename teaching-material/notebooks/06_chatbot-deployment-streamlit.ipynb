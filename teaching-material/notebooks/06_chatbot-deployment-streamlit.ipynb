{
  "nbformat": 4,
  "nbformat_minor": 0,
  "metadata": {
    "colab": {
      "provenance": []
    },
    "kernelspec": {
      "name": "python3",
      "display_name": "Python 3"
    },
    "language_info": {
      "name": "python"
    }
  },
  "cells": [
    {
      "cell_type": "markdown",
      "source": [
        "# Tutoriel complet : Créer un chatbot médical avec TF-IDF et Similarité Cosinus\n",
        "\n",
        "## Objectif :\n",
        "\n",
        "Nous allons créer un chatbot médical en utilisant la méthode TF-IDF (Term Frequency-Inverse Document Frequency) et la similarité cosinus. Ce chatbot répondra à des questions en utilisant un dataset médical (comme MedQuAD), en trouvant les questions les plus proches et en affichant les réponses correspondantes.\n",
        "\n",
        "---"
      ],
      "metadata": {
        "id": "SB2nnt0QP6AG"
      }
    },
    {
      "cell_type": "markdown",
      "source": [
        "Étapes de création du chatbot :\n",
        "1. Installer les dépendances nécessaires\n",
        "a. Installer Streamlit et pyngrok\n",
        "Dans Google Colab, installez les bibliothèques Streamlit et pyngrok permettent de partager votre application en ligne et scikit-learn pour travailler avec TF-IDF et similarité cosinus."
      ],
      "metadata": {
        "id": "Pdv7FouiQkL0"
      }
    },
    {
      "cell_type": "code",
      "execution_count": null,
      "metadata": {
        "colab": {
          "base_uri": "https://localhost:8080/"
        },
        "id": "oi_jrpJ_Pv_I",
        "outputId": "9a4c234c-c6c8-486d-9b20-bb91ba6bf925"
      },
      "outputs": [
        {
          "output_type": "stream",
          "name": "stdout",
          "text": [
            "Requirement already satisfied: streamlit in /usr/local/lib/python3.10/dist-packages (1.41.1)\n",
            "Requirement already satisfied: altair<6,>=4.0 in /usr/local/lib/python3.10/dist-packages (from streamlit) (5.5.0)\n",
            "Requirement already satisfied: blinker<2,>=1.0.0 in /usr/local/lib/python3.10/dist-packages (from streamlit) (1.9.0)\n",
            "Requirement already satisfied: cachetools<6,>=4.0 in /usr/local/lib/python3.10/dist-packages (from streamlit) (5.5.0)\n",
            "Requirement already satisfied: click<9,>=7.0 in /usr/local/lib/python3.10/dist-packages (from streamlit) (8.1.7)\n",
            "Requirement already satisfied: numpy<3,>=1.23 in /usr/local/lib/python3.10/dist-packages (from streamlit) (1.26.4)\n",
            "Requirement already satisfied: packaging<25,>=20 in /usr/local/lib/python3.10/dist-packages (from streamlit) (24.2)\n",
            "Requirement already satisfied: pandas<3,>=1.4.0 in /usr/local/lib/python3.10/dist-packages (from streamlit) (2.2.2)\n",
            "Requirement already satisfied: pillow<12,>=7.1.0 in /usr/local/lib/python3.10/dist-packages (from streamlit) (11.0.0)\n",
            "Requirement already satisfied: protobuf<6,>=3.20 in /usr/local/lib/python3.10/dist-packages (from streamlit) (4.25.5)\n",
            "Requirement already satisfied: pyarrow>=7.0 in /usr/local/lib/python3.10/dist-packages (from streamlit) (17.0.0)\n",
            "Requirement already satisfied: requests<3,>=2.27 in /usr/local/lib/python3.10/dist-packages (from streamlit) (2.32.3)\n",
            "Requirement already satisfied: rich<14,>=10.14.0 in /usr/local/lib/python3.10/dist-packages (from streamlit) (13.9.4)\n",
            "Requirement already satisfied: tenacity<10,>=8.1.0 in /usr/local/lib/python3.10/dist-packages (from streamlit) (9.0.0)\n",
            "Requirement already satisfied: toml<2,>=0.10.1 in /usr/local/lib/python3.10/dist-packages (from streamlit) (0.10.2)\n",
            "Requirement already satisfied: typing-extensions<5,>=4.3.0 in /usr/local/lib/python3.10/dist-packages (from streamlit) (4.12.2)\n",
            "Requirement already satisfied: watchdog<7,>=2.1.5 in /usr/local/lib/python3.10/dist-packages (from streamlit) (6.0.0)\n",
            "Requirement already satisfied: gitpython!=3.1.19,<4,>=3.0.7 in /usr/local/lib/python3.10/dist-packages (from streamlit) (3.1.43)\n",
            "Requirement already satisfied: pydeck<1,>=0.8.0b4 in /usr/local/lib/python3.10/dist-packages (from streamlit) (0.9.1)\n",
            "Requirement already satisfied: tornado<7,>=6.0.3 in /usr/local/lib/python3.10/dist-packages (from streamlit) (6.3.3)\n",
            "Requirement already satisfied: jinja2 in /usr/local/lib/python3.10/dist-packages (from altair<6,>=4.0->streamlit) (3.1.4)\n",
            "Requirement already satisfied: jsonschema>=3.0 in /usr/local/lib/python3.10/dist-packages (from altair<6,>=4.0->streamlit) (4.23.0)\n",
            "Requirement already satisfied: narwhals>=1.14.2 in /usr/local/lib/python3.10/dist-packages (from altair<6,>=4.0->streamlit) (1.17.0)\n",
            "Requirement already satisfied: gitdb<5,>=4.0.1 in /usr/local/lib/python3.10/dist-packages (from gitpython!=3.1.19,<4,>=3.0.7->streamlit) (4.0.11)\n",
            "Requirement already satisfied: python-dateutil>=2.8.2 in /usr/local/lib/python3.10/dist-packages (from pandas<3,>=1.4.0->streamlit) (2.8.2)\n",
            "Requirement already satisfied: pytz>=2020.1 in /usr/local/lib/python3.10/dist-packages (from pandas<3,>=1.4.0->streamlit) (2024.2)\n",
            "Requirement already satisfied: tzdata>=2022.7 in /usr/local/lib/python3.10/dist-packages (from pandas<3,>=1.4.0->streamlit) (2024.2)\n",
            "Requirement already satisfied: charset-normalizer<4,>=2 in /usr/local/lib/python3.10/dist-packages (from requests<3,>=2.27->streamlit) (3.4.0)\n",
            "Requirement already satisfied: idna<4,>=2.5 in /usr/local/lib/python3.10/dist-packages (from requests<3,>=2.27->streamlit) (3.10)\n",
            "Requirement already satisfied: urllib3<3,>=1.21.1 in /usr/local/lib/python3.10/dist-packages (from requests<3,>=2.27->streamlit) (2.2.3)\n",
            "Requirement already satisfied: certifi>=2017.4.17 in /usr/local/lib/python3.10/dist-packages (from requests<3,>=2.27->streamlit) (2024.8.30)\n",
            "Requirement already satisfied: markdown-it-py>=2.2.0 in /usr/local/lib/python3.10/dist-packages (from rich<14,>=10.14.0->streamlit) (3.0.0)\n",
            "Requirement already satisfied: pygments<3.0.0,>=2.13.0 in /usr/local/lib/python3.10/dist-packages (from rich<14,>=10.14.0->streamlit) (2.18.0)\n",
            "Requirement already satisfied: smmap<6,>=3.0.1 in /usr/local/lib/python3.10/dist-packages (from gitdb<5,>=4.0.1->gitpython!=3.1.19,<4,>=3.0.7->streamlit) (5.0.1)\n",
            "Requirement already satisfied: MarkupSafe>=2.0 in /usr/local/lib/python3.10/dist-packages (from jinja2->altair<6,>=4.0->streamlit) (3.0.2)\n",
            "Requirement already satisfied: attrs>=22.2.0 in /usr/local/lib/python3.10/dist-packages (from jsonschema>=3.0->altair<6,>=4.0->streamlit) (24.2.0)\n",
            "Requirement already satisfied: jsonschema-specifications>=2023.03.6 in /usr/local/lib/python3.10/dist-packages (from jsonschema>=3.0->altair<6,>=4.0->streamlit) (2024.10.1)\n",
            "Requirement already satisfied: referencing>=0.28.4 in /usr/local/lib/python3.10/dist-packages (from jsonschema>=3.0->altair<6,>=4.0->streamlit) (0.35.1)\n",
            "Requirement already satisfied: rpds-py>=0.7.1 in /usr/local/lib/python3.10/dist-packages (from jsonschema>=3.0->altair<6,>=4.0->streamlit) (0.22.3)\n",
            "Requirement already satisfied: mdurl~=0.1 in /usr/local/lib/python3.10/dist-packages (from markdown-it-py>=2.2.0->rich<14,>=10.14.0->streamlit) (0.1.2)\n",
            "Requirement already satisfied: six>=1.5 in /usr/local/lib/python3.10/dist-packages (from python-dateutil>=2.8.2->pandas<3,>=1.4.0->streamlit) (1.17.0)\n",
            "Requirement already satisfied: pyngrok in /usr/local/lib/python3.10/dist-packages (7.2.2)\n",
            "Requirement already satisfied: PyYAML>=5.1 in /usr/local/lib/python3.10/dist-packages (from pyngrok) (6.0.2)\n",
            "Requirement already satisfied: scikit-learn in /usr/local/lib/python3.10/dist-packages (1.5.2)\n",
            "Requirement already satisfied: numpy>=1.19.5 in /usr/local/lib/python3.10/dist-packages (from scikit-learn) (1.26.4)\n",
            "Requirement already satisfied: scipy>=1.6.0 in /usr/local/lib/python3.10/dist-packages (from scikit-learn) (1.13.1)\n",
            "Requirement already satisfied: joblib>=1.2.0 in /usr/local/lib/python3.10/dist-packages (from scikit-learn) (1.4.2)\n",
            "Requirement already satisfied: threadpoolctl>=3.1.0 in /usr/local/lib/python3.10/dist-packages (from scikit-learn) (3.5.0)\n"
          ]
        }
      ],
      "source": [
        "!pip install streamlit\n",
        "!pip install pyngrok\n",
        "!pip install scikit-learn"
      ]
    },
    {
      "cell_type": "markdown",
      "source": [
        "- Nous allons créer un fichier Python pour contenir notre application Streamlit.\n",
        "\n",
        "a. Créer le fichier app.py dans Google Colab"
      ],
      "metadata": {
        "id": "FP2q21twQ4WR"
      }
    },
    {
      "cell_type": "code",
      "source": [
        "from google.colab import drive\n",
        "drive.mount('/content/drive')"
      ],
      "metadata": {
        "colab": {
          "base_uri": "https://localhost:8080/"
        },
        "id": "FYs8KfFpRJwu",
        "outputId": "f14af2db-4ce6-4204-8ec3-27d79b5906d9"
      },
      "execution_count": null,
      "outputs": [
        {
          "output_type": "stream",
          "name": "stdout",
          "text": [
            "Mounted at /content/drive\n"
          ]
        }
      ]
    },
    {
      "cell_type": "markdown",
      "source": [
        "Exécutez cette commande pour écrire le code dans un fichier Python : `%%writefile app.py`"
      ],
      "metadata": {
        "id": "FXTFQpQuGbvb"
      }
    },
    {
      "cell_type": "code",
      "source": [
        "%%writefile app.py\n",
        "import streamlit as st\n",
        "import pandas as pd\n",
        "from sklearn.feature_extraction.text import TfidfVectorizer\n",
        "from sklearn.metrics.pairwise import cosine_similarity\n",
        "import re\n",
        "\n",
        "# Fonction pour nettoyer le texte\n",
        "#def nettoyer_texte(texte):\n",
        "#    if not isinstance(texte, str):\n",
        "#        return \"\"\n",
        "#    texte = re.sub(r\"<.*?>\", \"\", texte)  # Supprimer les balises HTML\n",
        "#    texte = re.sub(r\"[^a-zA-Z0-9éèêçàùâû\\s]\", \"\", texte)  # Supprimer les caractères spéciaux\n",
        "#    texte = re.sub(r\"\\s+\", \" \", texte)  # Réduire les espaces multiples\n",
        "#    return texte.strip()\n",
        "\n",
        "# Charger le dataset MedQuAD (remplacez ceci par votre propre fichier CSV)\n",
        "df = pd.read_csv(\"/content/drive/My Drive/SCSanté/05/medquad.csv\")  # Assurez-vous que le fichier CSV est bien chargé dans Colab ou votre environnement\n",
        "\n",
        "# Nettoyer les questions et réponses\n",
        "#df[\"question_cleaned\"] = df[\"question\"].apply(nettoyer_texte)\n",
        "#df[\"answer_cleaned\"] = df[\"answer\"].apply(nettoyer_texte)\n",
        "\n",
        "# Initialiser et entraîner TF-IDF\n",
        "vectorizer = TfidfVectorizer()\n",
        "tfidf_matrix = vectorizer.fit_transform(df[\"question\"])\n",
        "\n",
        "# Fonction pour trouver une question similaire avec TF-IDF\n",
        "def trouver_question_similaire(user_question):\n",
        "    #user_question_cleaned = nettoyer_texte(user_question)\n",
        "    user_vec = vectorizer.transform([user_question])\n",
        "    similarites = cosine_similarity(user_vec, tfidf_matrix)\n",
        "    index_similaire = similarites.argsort()[0, -1]\n",
        "    return index_similaire, similarites[0][index_similaire]\n",
        "\n",
        "# Interface utilisateur Streamlit avec un titre modifié\n",
        "st.title(\"Chatbot Médical avec TF-IDF et Similarité Cosinus\")\n",
        "\n",
        "user_question = st.text_input(\"Bonjour! Posez votre question ici :\")\n",
        "\n",
        "if user_question:\n",
        "    # Trouver la question similaire avec TF-IDF\n",
        "    index_tfidf, tfidf_score = trouver_question_similaire(user_question)\n",
        "\n",
        "    # Afficher les résultats\n",
        "    st.write(\"Question similaire :\", df[\"question\"].iloc[index_tfidf])\n",
        "    st.write(\"Réponse :\", df[\"answer\"].iloc[index_tfidf])\n",
        "    st.write(\"Score TF-IDF :\", tfidf_score)"
      ],
      "metadata": {
        "colab": {
          "base_uri": "https://localhost:8080/"
        },
        "id": "5TQTJCVYQnLX",
        "outputId": "68a143a3-3170-4b58-f7af-1aeb9dc489ad"
      },
      "execution_count": null,
      "outputs": [
        {
          "output_type": "stream",
          "name": "stdout",
          "text": [
            "Writing app.py\n"
          ]
        }
      ]
    },
    {
      "cell_type": "markdown",
      "source": [
        "3. Lancer l'application Streamlit\n",
        "Une fois le fichier app.py créé, il faut lancer Streamlit en arrière-plan dans Google Colab.\n",
        "\n",
        "a. Lancer Streamlit en arrière-plan\n",
        "Exécutez la commande suivante dans Google Colab pour démarrer Streamlit :"
      ],
      "metadata": {
        "id": "JP9jG0SiTvUb"
      }
    },
    {
      "cell_type": "code",
      "source": [
        "!streamlit run app.py &>/content/logs.txt &"
      ],
      "metadata": {
        "id": "msHaerggTv9H"
      },
      "execution_count": null,
      "outputs": []
    },
    {
      "cell_type": "markdown",
      "source": [
        "Cela démarrera Streamlit en arrière-plan et enverra les logs dans le fichier logs.txt.\n"
      ],
      "metadata": {
        "id": "rtFp2jjET2nI"
      }
    },
    {
      "cell_type": "markdown",
      "source": [
        "4. Exposer l'application via ngrok\n",
        "Dans Google Colab, nous devons utiliser ngrok pour exposer Streamlit à une URL publique, car Colab ne permet pas de lancer des serveurs locaux accessibles en dehors du notebook.\n",
        "\n",
        "a. Créer un tunnel ngrok pour exposer l'application\n",
        "Exécutez le code suivant pour créer un tunnel ngrok sur le port 8501 (port par défaut de Streamlit)."
      ],
      "metadata": {
        "id": "WrF-XCH-T7QP"
      }
    },
    {
      "cell_type": "code",
      "source": [
        "!pip install pyngrok"
      ],
      "metadata": {
        "colab": {
          "base_uri": "https://localhost:8080/"
        },
        "id": "6NC7197ZUYoJ",
        "outputId": "405b692e-901c-4569-a780-ed582ecbb11b"
      },
      "execution_count": null,
      "outputs": [
        {
          "output_type": "stream",
          "name": "stdout",
          "text": [
            "Requirement already satisfied: pyngrok in /usr/local/lib/python3.10/dist-packages (7.2.2)\n",
            "Requirement already satisfied: PyYAML>=5.1 in /usr/local/lib/python3.10/dist-packages (from pyngrok) (6.0.2)\n"
          ]
        }
      ]
    },
    {
      "cell_type": "code",
      "source": [
        "from pyngrok import ngrok\n",
        "\n",
        "# Assurez-vous que votre authtoken est configuré\n",
        "ngrok.set_auth_token(\"2pcHMgCBLncLL8aZryYL2BfNq1h_6B5PMKwrwfRmYZGLQYVYG\")\n",
        "\n",
        "# Lancer le tunnel ngrok sur le port 8501 pour Streamlit\n",
        "public_url = ngrok.connect(8501)  # Assurez-vous de spécifier le port 8501\n",
        "print(\"Streamlit est accessible via :\", public_url)\n",
        "# Lancer Streamlit en arrière-plan\n",
        "!streamlit run app.py &>/content/logs.txt &"
      ],
      "metadata": {
        "colab": {
          "base_uri": "https://localhost:8080/"
        },
        "id": "-Uq8bwMYUBf3",
        "outputId": "24452cd2-a3dc-49c8-90f9-28f611a5432e"
      },
      "execution_count": null,
      "outputs": [
        {
          "output_type": "stream",
          "name": "stdout",
          "text": [
            "Streamlit est accessible via : NgrokTunnel: \"https://e9e4-34-69-32-76.ngrok-free.app\" -> \"http://localhost:8501\"\n"
          ]
        }
      ]
    },
    {
      "cell_type": "code",
      "source": [],
      "metadata": {
        "id": "lN1jOmtOIVGv"
      },
      "execution_count": null,
      "outputs": []
    }
  ]
}