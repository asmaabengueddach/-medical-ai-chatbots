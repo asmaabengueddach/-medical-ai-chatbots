{
 "cells": [
  {
   "cell_type": "markdown",
   "id": "fa45d2df",
   "metadata": {},
   "source": [
    "# Introduction aux systèmes cognitifs, au Machine Learning et aux outils Python\n",
    "\n",
    "## **Dr. Asmaa Bengueddach**\n",
    "Université Oran 1 Ahmed Ben Bella  \n",
    "Spécialité : Génie Biomédical  \n",
    "Niveau : Master M2  \n",
    "\n",
    "### Volume horaire\n",
    "**Volume horaire consacré à ce notebook : 1,5 heures**\n",
    "\n",
    "### Objectif du Cours\n",
    "- Comprendre les concepts fondamentaux des systèmes cognitifs et du Machine Learning (ML) en santé.\n",
    "- Apprendre à utiliser des bibliothèques essentielles de Python comme NumPy et Pandas.\n",
    "- Préparer les étudiants à réfléchir au projet final : un chatbot médical."
   ]
  },
  {
   "cell_type": "markdown",
   "id": "90bdb95f",
   "metadata": {},
   "source": [
    "# 1. Introduction aux systèmes cognitifs en santé\n",
    "\n",
    "## Qu'est-ce qu'un système cognitif ?\n",
    "Un système cognitif imite les processus mentaux humains tels que :\n",
    "- La perception (capacité à interpréter des informations provenant du monde extérieur)\n",
    "- L'apprentissage (capacité à acquérir de nouvelles connaissances)\n",
    "- La prise de décision (capacité à choisir des actions en fonction de données disponibles)\n",
    "\n",
    "Ces systèmes sont conçus pour traiter des données complexes et prendre des décisions, souvent plus rapidement et de manière plus précise que les humains dans certains domaines, notamment en santé."
   ]
  },
  {
   "cell_type": "markdown",
   "id": "20c1aeed",
   "metadata": {},
   "source": [
    "## Exemple : IBM Watson Oncology\n",
    "IBM Watson est un exemple marquant de l’utilisation des systèmes cognitifs en santé. Ce système analyse des milliers de dossiers médicaux, des recherches scientifiques et des essais cliniques pour proposer des traitements personnalisés aux patients atteints de cancer.\n",
    "\n",
    "- **Rôle dans le traitement du cancer :**\n",
    "  - Aide les oncologues à prendre des décisions basées sur des faits et des recherches à jour.\n",
    "  - Réduit le temps nécessaire pour analyser d'énormes quantités de données.\n",
    "  - Propose des traitements adaptés aux spécificités de chaque patient."
   ]
  },
  {
   "cell_type": "markdown",
   "id": "26c91300",
   "metadata": {},
   "source": [
    "[Vidéo YouTube : Introduction au Machine Learning](https://www.youtube.com/watch?v=U6rvaWaiZNg)\n"
   ]
  },
  {
   "cell_type": "markdown",
   "id": "86114673",
   "metadata": {},
   "source": [
    "### Question de réflexion\n",
    "*Comment pensez-vous qu’un système cognitif comme IBM Watson pourrait améliorer la prise de décision dans un hôpital ou un centre médical ? Quels avantages cela apporterait-il aux médecins et aux patients ?*"
   ]
  },
  {
   "cell_type": "markdown",
   "id": "3d48ed05",
   "metadata": {},
   "source": []
  },
  {
   "cell_type": "markdown",
   "id": "4563b933",
   "metadata": {},
   "source": [
    "[**Télécharger le fichier IBM Watson**](./IBM_Watson.docx)"
   ]
  },
  {
   "cell_type": "markdown",
   "id": "770ff039",
   "metadata": {},
   "source": [
    "# 2. Introduction au Machine Learning\n",
    "\n",
    "Le Machine Learning (ML) est une branche de l'IA où les systèmes apprennent automatiquement à partir des données, sans être explicitement programmés pour chaque tâche."
   ]
  },
  {
   "cell_type": "markdown",
   "id": "d0c44d76",
   "metadata": {},
   "source": [
    "## Apprentissage supervisé\n",
    "Dans cette méthode, le modèle apprend à partir de données étiquetées. Cela signifie que chaque donnée d'entrée a un résultat associé, et le modèle apprend à prédire ce résultat.\n",
    "\n",
    "- **Exemple :** Prédiction de maladies à partir des symptômes. On fournit des exemples de patients (symptômes, diagnostic) et le modèle apprend à associer des symptômes à une maladie spécifique."
   ]
  },
  {
   "cell_type": "markdown",
   "id": "c9d38864",
   "metadata": {},
   "source": [
    "<img src=\"exemple1.png\" alt=\"Prédiction de maladies à partir des symptômes\" width=\"400\" height=\"250\">"
   ]
  },
  {
   "cell_type": "markdown",
   "id": "7d748000",
   "metadata": {},
   "source": [
    "## Apprentissage non-supervisé\n",
    "Le modèle découvre des patterns dans des données non étiquetées. Cela signifie que le modèle n'a pas de résultat prédéfini et essaie de regrouper ou d'identifier des similarités dans les données.\n",
    "\n",
    "- **Exemple :** Segmentation de patients en groupes basés sur leurs symptômes. On utilise cette méthode pour identifier des sous-groupes de patients ayant des caractéristiques similaires, ce qui peut aider à personnaliser les traitements."
   ]
  },
  {
   "cell_type": "markdown",
   "id": "35bfbba3",
   "metadata": {},
   "source": [
    "<img src=\"segmentation.png\" alt=\"Segmentation des patients\" width=\"400\" height=\"250\">"
   ]
  },
  {
   "cell_type": "markdown",
   "id": "2f83d1a0",
   "metadata": {},
   "source": [
    "## Vidéo suggérée\n",
    "[Introduction au Machine Learning](https://www.youtube.com/watch?v=EUD07IiviJg&list=PLO_fdPEVlfKqUF5BPKjGSh7aV9aBshrpY)"
   ]
  },
  {
   "cell_type": "markdown",
   "id": "09968e3c",
   "metadata": {},
   "source": [
    "# 3. Applications du Machine Learning en santé\n",
    "\n",
    "## Diagnostic automatique\n",
    "Le ML peut être utilisé pour analyser des images médicales (comme des radiographies ou IRM) et détecter des anomalies (ex. tumeurs, fractures) plus rapidement qu’un expert humain."
   ]
  },
  {
   "cell_type": "markdown",
   "id": "c730ad26",
   "metadata": {},
   "source": [
    "## Analyse prédictive\n",
    "Les modèles de ML peuvent être utilisés pour prédire la progression d’une maladie, par exemple la récidive du cancer, en fonction des antécédents médicaux et des données du patient."
   ]
  },
  {
   "cell_type": "markdown",
   "id": "ee2e1545",
   "metadata": {},
   "source": [
    "### Question de réflexion\n",
    "*Pourquoi pensez-vous que l'apprentissage supervisé est largement utilisé dans les diagnostics médicaux ? Pouvez-vous identifier d'autres domaines où l’apprentissage supervisé pourrait être appliqué en santé ?*"
   ]
  },
  {
   "cell_type": "markdown",
   "id": "3c657c61",
   "metadata": {},
   "source": [
    "# 5. Plan de Réalisation d'un Chatbot Médical à partir de Textes Corpus, Dossiers Médicaux, Articles Scientifiques et Datasets en ligne\n",
    "\n",
    "## Objectif du projet\n",
    "Le projet consiste à développer un chatbot médical capable d'interagir avec les patients et les professionnels de santé pour fournir des informations précises sur des symptômes, des traitements, et des recommandations basées sur des dossiers médicaux, des articles scientifiques, et des datasets médicaux. Le chatbot s'appuiera sur des technologies avancées de NLP (Natural Language Processing) telles que IBM Watson ou Google LLM pour comprendre et traiter les données textuelles complexes issues de corpus médical."
   ]
  },
  {
   "cell_type": "markdown",
   "id": "76b1d19b",
   "metadata": {},
   "source": [
    "[**Télécharger la réponse**](./ML_sante.docx)"
   ]
  },
  {
   "cell_type": "markdown",
   "id": "9de0cbb9",
   "metadata": {},
   "source": []
  },
  {
   "cell_type": "markdown",
   "id": "1a15f574",
   "metadata": {},
   "source": [
    "# 4. Introduction aux outils Python : NumPy et Pandas\n",
    "\n",
    "## Pourquoi Python ?\n",
    "Python est l'un des langages de programmation les plus utilisés dans le domaine de la data science et de l'intelligence artificielle, en raison de sa simplicité et de son large éventail de bibliothèques."
   ]
  },
  {
   "cell_type": "markdown",
   "id": "5e260367",
   "metadata": {},
   "source": [
    "# 4.1. NumPy : Calcul scientifique en Python\n",
    "NumPy est une bibliothèque permettant de faire des calculs rapides et efficaces avec des tableaux de données."
   ]
  },
  {
   "cell_type": "code",
   "execution_count": 17,
   "id": "6a82a098",
   "metadata": {},
   "outputs": [
    {
     "name": "stdout",
     "output_type": "stream",
     "text": [
      "Moyenne de la pression artérielle : 127.0\n"
     ]
    }
   ],
   "source": [
    "# Exemple d’utilisation de NumPy\n",
    "import numpy as np\n",
    "\n",
    "# Créer un tableau NumPy avec des valeurs de pression artérielle\n",
    "pression = np.array([120, 135, 110, 140, 130])\n",
    "\n",
    "# Calculer la moyenne des valeurs\n",
    "print(\"Moyenne de la pression artérielle :\", np.mean(pression))"
   ]
  },
  {
   "cell_type": "markdown",
   "id": "9ea4fc04",
   "metadata": {},
   "source": [
    "# 4.2. Pandas : Manipulation de données\n",
    "Pandas est une bibliothèque qui permet de manipuler des jeux de données tabulaires."
   ]
  },
  {
   "cell_type": "code",
   "execution_count": 18,
   "id": "1f4ab410",
   "metadata": {},
   "outputs": [
    {
     "name": "stdout",
     "output_type": "stream",
     "text": [
      "             Âge  Pression Artérielle\n",
      "count   5.000000             5.000000\n",
      "mean   40.400000           127.000000\n",
      "std     8.792042            12.041595\n",
      "min    29.000000           110.000000\n",
      "25%    34.000000           120.000000\n",
      "50%    42.000000           130.000000\n",
      "75%    47.000000           135.000000\n",
      "max    50.000000           140.000000\n"
     ]
    }
   ],
   "source": [
    "# Exemple d’utilisation de Pandas\n",
    "import pandas as pd\n",
    "\n",
    "# Créer un DataFrame avec des données de patients\n",
    "data = {'Nom': ['Alice', 'Bob', 'Charlie', 'David', 'Eve'],\n",
    "        'Âge': [29, 34, 42, 50, 47],\n",
    "        'Pression Artérielle': [120, 135, 110, 140, 130]}\n",
    "df = pd.DataFrame(data)\n",
    "\n",
    "# Afficher les statistiques descriptives\n",
    "print(df.describe())"
   ]
  },
  {
   "cell_type": "markdown",
   "id": "ded35044",
   "metadata": {},
   "source": [
    "## Sous-domaine à choisir\n",
    "Chaque étudiant ou groupe d’étudiants devra choisir un sous-domaine spécifique. Par exemple :\n",
    "- Suivi des symptômes (ex. fièvre, toux)\n",
    "- Premiers soins (ex. coupures, brûlures)\n",
    "- Gestion des maladies chroniques (ex. diabète, hypertension)"
   ]
  },
  {
   "cell_type": "markdown",
   "id": "f29ed750",
   "metadata": {},
   "source": [
    "## Étapes du projet\n",
    "1. **Choix du sous-domaine médical :** Choisissez le domaine médical pour lequel vous voulez créer un chatbot.\n",
    "2. **Collecte de données :** Préparez un ensemble de questions-réponses que le chatbot pourra utiliser pour donner des conseils médicaux.\n",
    "3. **Entraînement du modèle :** Entraînez un modèle de Machine Learning simple qui associe les symptômes à une réponse adaptée.\n",
    "4. **Mise en place du chatbot :** Le chatbot devra être capable de répondre aux questions des utilisateurs en fonction des symptômes qu’ils fournissent."
   ]
  },
  {
   "cell_type": "code",
   "execution_count": null,
   "id": "88db7669",
   "metadata": {},
   "outputs": [],
   "source": []
  }
 ],
 "metadata": {
  "kernelspec": {
   "display_name": "Python 3 (ipykernel)",
   "language": "python",
   "name": "python3"
  },
  "language_info": {
   "codemirror_mode": {
    "name": "ipython",
    "version": 3
   },
   "file_extension": ".py",
   "mimetype": "text/x-python",
   "name": "python",
   "nbconvert_exporter": "python",
   "pygments_lexer": "ipython3",
   "version": "3.11.5"
  }
 },
 "nbformat": 4,
 "nbformat_minor": 5
}
