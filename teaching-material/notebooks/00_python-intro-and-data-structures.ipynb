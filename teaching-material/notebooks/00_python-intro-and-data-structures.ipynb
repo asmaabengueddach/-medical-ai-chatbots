{
  "nbformat": 4,
  "nbformat_minor": 0,
  "metadata": {
    "colab": {
      "provenance": []
    },
    "kernelspec": {
      "name": "python3",
      "display_name": "Python 3"
    },
    "language_info": {
      "name": "python"
    }
  },
  "cells": [
    {
      "cell_type": "markdown",
      "source": [
        "#**Initiation à Python pour la Data Science**\n",
        "\n",
        "## **Dr. Asmaa Bengueddach**\n",
        "Université Oran 1 Ahmed Ben Bella  \n",
        "Niveau : Master\n",
        "\n",
        "---\n",
        "\n",
        "## **Objectifs du TP :**\n",
        "- Découvrir l'environnement Python.\n",
        "- Manipuler les structures de données de base : variables, listes, tuples, dictionnaires.\n",
        "- Utiliser les bibliothèques de base pour la Data Science (NumPy, Pandas).\n",
        "- Lire et manipuler des jeux de données simples.\n",
        "  \n",
        "## **Prérequis :**\n",
        "- Installation de Python (version 3.x).\n",
        "- Installation de Jupyter Notebook (ou utilisation de Google Colab).\n",
        "- Bibliothèques à installer : `numpy`, `pandas` (via `pip install numpy pandas`).\n"
      ],
      "metadata": {
        "id": "_htYIkjDb71b"
      }
    },
    {
      "cell_type": "markdown",
      "source": [
        "### **Partie 1 : Introduction à Python (Durée : 30 minutes)**\n",
        "\n",
        "#### 1.1 **Variables et types de données**\n",
        "\n",
        "1. Créer des variables pour stocker les informations suivantes :\n",
        "   - Un entier : l'âge d'une personne.\n",
        "   - Un nombre à virgule flottante : la taille en mètres.\n",
        "   - Une chaîne de caractères : le nom de la personne.\n",
        "   - Un booléen : vrai si la personne est majeure, faux sinon."
      ],
      "metadata": {
        "id": "ZB6_DvXcc4Pd"
      }
    },
    {
      "cell_type": "markdown",
      "source": [
        "**Réponse:**"
      ],
      "metadata": {
        "id": "fXAnOAR5df8S"
      }
    },
    {
      "cell_type": "code",
      "source": [
        "# Créer les variables ici\n"
      ],
      "metadata": {
        "id": "pVgkT8h5dZdo"
      },
      "execution_count": null,
      "outputs": []
    },
    {
      "cell_type": "markdown",
      "source": [
        "2. **Exercice :** Écrire un programme qui demande à l'utilisateur de saisir son âge, puis afficher un message indiquant s'il est majeur ou non."
      ],
      "metadata": {
        "id": "2d4ivfSieAIg"
      }
    },
    {
      "cell_type": "markdown",
      "source": [
        "**Réponse:**"
      ],
      "metadata": {
        "id": "hyKNQldNmVUt"
      }
    },
    {
      "cell_type": "code",
      "source": [
        "# Créer les variables ici\n"
      ],
      "metadata": {
        "id": "R67lERhleA0Y"
      },
      "execution_count": null,
      "outputs": []
    },
    {
      "cell_type": "markdown",
      "source": [
        "#### 1.2 **Les listes et tuples**\n",
        "\n",
        "1. Créer une liste contenant les âges de plusieurs personnes : `[25, 30, 18, 22, 35]`.\n",
        "2. Ajouter un nouvel âge à la liste.\n",
        "3. Afficher la longueur de la liste et trier celle-ci."
      ],
      "metadata": {
        "id": "PrgFDS1Umacf"
      }
    },
    {
      "cell_type": "markdown",
      "source": [
        "**Réponse:**"
      ],
      "metadata": {
        "id": "yXaXzufxmrlf"
      }
    },
    {
      "cell_type": "code",
      "source": [
        "# Créer et manipuler la liste ici\n"
      ],
      "metadata": {
        "id": "e_ESm9dImgqe"
      },
      "execution_count": null,
      "outputs": []
    },
    {
      "cell_type": "markdown",
      "source": [
        "4. **Exercice :** Transformer la liste en tuple et afficher chaque élément du tuple."
      ],
      "metadata": {
        "id": "SfQ8ooJRo6oc"
      }
    },
    {
      "cell_type": "markdown",
      "source": [
        "**Réponse:**"
      ],
      "metadata": {
        "id": "-vQm205kpIaf"
      }
    },
    {
      "cell_type": "code",
      "source": [
        "# Transformer la liste en tuple ici\n"
      ],
      "metadata": {
        "id": "ZHowRv38mydu"
      },
      "execution_count": null,
      "outputs": []
    },
    {
      "cell_type": "markdown",
      "source": [
        "#### 1.3 **Les dictionnaires**\n",
        "\n",
        "1. Créer un dictionnaire pour stocker des informations sur une personne :\n",
        "   - Clés : \"nom\", \"âge\", \"taille\".\n",
        "   - Valeurs : remplissez ces champs avec des données de votre choix."
      ],
      "metadata": {
        "id": "ZqXlm3pIpOMm"
      }
    },
    {
      "cell_type": "markdown",
      "source": [
        "**Réponse:**"
      ],
      "metadata": {
        "id": "DzAOwnrDpY3O"
      }
    },
    {
      "cell_type": "code",
      "source": [
        "# Créer le dictionnaire ici\n"
      ],
      "metadata": {
        "id": "MfutUCj6pF2n"
      },
      "execution_count": null,
      "outputs": []
    },
    {
      "cell_type": "markdown",
      "source": [
        "2. **Exercice :** Ajouter une clé \"ville\" au dictionnaire, puis afficher toutes les informations sous la forme d'une phrase."
      ],
      "metadata": {
        "id": "McKPmbp3pez4"
      }
    },
    {
      "cell_type": "markdown",
      "source": [
        "**Réponse:**"
      ],
      "metadata": {
        "id": "kuwFCyVEpp3E"
      }
    },
    {
      "cell_type": "code",
      "source": [
        "# Ajouter la clé et afficher les infos ici\n"
      ],
      "metadata": {
        "id": "DenVnF8GpVom"
      },
      "execution_count": null,
      "outputs": []
    },
    {
      "cell_type": "markdown",
      "source": [
        "### **Partie 2 : Introduction à NumPy et Pandas (Durée : 1 heure)**\n",
        "\n",
        "#### 2.1 **Manipulation de données avec NumPy**\n",
        "\n",
        "1. Importer la bibliothèque NumPy."
      ],
      "metadata": {
        "id": "lyXg326Spu5R"
      }
    },
    {
      "cell_type": "code",
      "source": [
        "import numpy as np"
      ],
      "metadata": {
        "id": "IaTYEG8bpnys"
      },
      "execution_count": null,
      "outputs": []
    },
    {
      "cell_type": "markdown",
      "source": [
        "2. Créer un tableau NumPy à partir de la liste des âges de la partie précédente."
      ],
      "metadata": {
        "id": "uUPbuMGop7VX"
      }
    },
    {
      "cell_type": "markdown",
      "source": [
        "**Réponse:**"
      ],
      "metadata": {
        "id": "f7mYi0lrqDkM"
      }
    },
    {
      "cell_type": "code",
      "source": [
        "# Créer le tableau NumPy ici\n"
      ],
      "metadata": {
        "id": "1_GepkHrpzyP"
      },
      "execution_count": null,
      "outputs": []
    },
    {
      "cell_type": "markdown",
      "source": [
        "3. **Exercice :** Calculer et afficher la moyenne, l'âge minimum et maximum à l'aide de NumPy."
      ],
      "metadata": {
        "id": "v3AQjL50qJw0"
      }
    },
    {
      "cell_type": "markdown",
      "source": [
        "**Réponse:**"
      ],
      "metadata": {
        "id": "rAubyaLqsOZD"
      }
    },
    {
      "cell_type": "code",
      "source": [
        "# Calculer et afficher les statistiques ici\n"
      ],
      "metadata": {
        "id": "2FdUlHAMqB3_"
      },
      "execution_count": null,
      "outputs": []
    },
    {
      "cell_type": "markdown",
      "source": [
        "#### 2.2 **Manipulation de données avec Pandas**"
      ],
      "metadata": {
        "id": "13xm2U16sWPr"
      }
    },
    {
      "cell_type": "code",
      "source": [
        "import pandas as pd\n"
      ],
      "metadata": {
        "id": "hrHq4QkGsLhx"
      },
      "execution_count": null,
      "outputs": []
    },
    {
      "cell_type": "markdown",
      "source": [
        "2. Créer un DataFrame Pandas à partir d'un dictionnaire :"
      ],
      "metadata": {
        "id": "ZUF9nWQnsiB1"
      }
    },
    {
      "cell_type": "markdown",
      "source": [
        "**Réponse:**"
      ],
      "metadata": {
        "id": "943eQmeZsm9X"
      }
    },
    {
      "cell_type": "code",
      "source": [
        "# Créer le DataFrame ici\n"
      ],
      "metadata": {
        "id": "5TAQ50kFsdBd"
      },
      "execution_count": null,
      "outputs": []
    },
    {
      "cell_type": "markdown",
      "source": [
        "3. Afficher les premières lignes du DataFrame :"
      ],
      "metadata": {
        "id": "k0i8_3xwt4T_"
      }
    },
    {
      "cell_type": "markdown",
      "source": [
        "**Réponse:**"
      ],
      "metadata": {
        "id": "OAQauGwzuCcV"
      }
    },
    {
      "cell_type": "code",
      "source": [
        "# Afficher les premières lignes ici\n"
      ],
      "metadata": {
        "id": "-LR4XKbmsugp"
      },
      "execution_count": null,
      "outputs": []
    },
    {
      "cell_type": "markdown",
      "source": [
        "4. **Exercice :** Ajouter une colonne \"Taille\" au DataFrame et calculer la taille moyenne."
      ],
      "metadata": {
        "id": "VBtrKgaiua-1"
      }
    },
    {
      "cell_type": "markdown",
      "source": [
        "**Réponse:**"
      ],
      "metadata": {
        "id": "MTKfxw2sukQO"
      }
    },
    {
      "cell_type": "code",
      "source": [
        "# Ajouter la colonne et calculer la moyenne ici\n"
      ],
      "metadata": {
        "id": "TNTzQ3Uqt-Cf"
      },
      "execution_count": null,
      "outputs": []
    },
    {
      "cell_type": "markdown",
      "source": [
        "### **Partie 3 : Projet Mini-Data Science (Durée : 1 heure 30 minutes)**\n",
        "\n",
        "#### 3.1 **Chargement d'un jeu de données**\n",
        "\n",
        "1. **Exercice :** Télécharger un jeu de données (ex : [Iris dataset](https://archive.ics.uci.edu/ml/datasets/iris)) et charger-le dans un DataFrame Pandas.\n"
      ],
      "metadata": {
        "id": "RBVpgNcour3M"
      }
    },
    {
      "cell_type": "markdown",
      "source": [
        "**Réponse:**"
      ],
      "metadata": {
        "id": "1HbnSXQau88Z"
      }
    },
    {
      "cell_type": "code",
      "source": [
        "# Charger le jeu de données ici\n"
      ],
      "metadata": {
        "id": "6QEI1IY_uhpd"
      },
      "execution_count": null,
      "outputs": []
    },
    {
      "cell_type": "markdown",
      "source": [
        "2. **Exercice :** Afficher les statistiques descriptives du DataFrame avec la fonction `describe()`."
      ],
      "metadata": {
        "id": "YMPbPRd0vCyf"
      }
    },
    {
      "cell_type": "markdown",
      "source": [
        "**Réponse:**"
      ],
      "metadata": {
        "id": "I3IOHn9XvNiZ"
      }
    },
    {
      "cell_type": "code",
      "source": [
        "# Afficher les statistiques ici\n"
      ],
      "metadata": {
        "id": "6udmtvYpu6go"
      },
      "execution_count": null,
      "outputs": []
    },
    {
      "cell_type": "markdown",
      "source": [
        "#### 3.2 **Analyse exploratoire des données**\n",
        "\n",
        "1. **Exercice :** Utiliser Pandas pour répondre aux questions suivantes :\n",
        "   - Combien de lignes et de colonnes comporte le DataFrame ?\n",
        "   - Quelles sont les différentes espèces de fleurs présentes dans les données ?\n",
        "   - Quelle est la longueur moyenne des pétales pour chaque espèce ?\n"
      ],
      "metadata": {
        "id": "DlqJWqGMvWnB"
      }
    },
    {
      "cell_type": "markdown",
      "source": [
        "**Réponse:**"
      ],
      "metadata": {
        "id": "6CaqD5Wovtje"
      }
    },
    {
      "cell_type": "code",
      "source": [
        "# Répondre aux questions ici\n"
      ],
      "metadata": {
        "id": "TkHxmbjVvKxa"
      },
      "execution_count": null,
      "outputs": []
    },
    {
      "cell_type": "markdown",
      "source": [
        "#### 3.3 **Visualisation des données avec Matplotlib**\n",
        "\n",
        "1. Installer Matplotlib : `pip install matplotlib`.\n",
        "\n",
        "2. **Exercice :** Créer un graphique en nuage de points (scatter plot) pour visualiser la relation entre la longueur et la largeur des sépales, en colorant les points en fonction de l'espèce."
      ],
      "metadata": {
        "id": "qkOxinEnv4Og"
      }
    },
    {
      "cell_type": "code",
      "source": [
        "# Créer le graphique ici\n"
      ],
      "metadata": {
        "id": "bNwGQEQ0v15L"
      },
      "execution_count": null,
      "outputs": []
    },
    {
      "cell_type": "markdown",
      "source": [
        "Ce TP d'initiation à Python pour la Data Science vous permet de comprendre les bases du langage, d'utiliser des bibliothèques incontournables comme NumPy et Pandas, et d'explorer des jeux de données réels. Vous avez également pratiqué l'analyse et la visualisation de données, éléments clés de la Data Science.\n",
        "\n",
        "---\n"
      ],
      "metadata": {
        "id": "K7TGytHbwGqF"
      }
    },
    {
      "cell_type": "code",
      "source": [],
      "metadata": {
        "id": "TslQeYOnv_04"
      },
      "execution_count": null,
      "outputs": []
    }
  ]
}