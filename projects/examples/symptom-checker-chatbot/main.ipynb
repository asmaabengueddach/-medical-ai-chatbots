{
 "cells": [
  {
   "cell_type": "markdown",
   "id": "80969185",
   "metadata": {},
   "source": [
    "# 🩺 Symptom Checker Chatbot\n",
    "\n",
    "This notebook matches user symptom descriptions to appropriate medical guidance using TF-IDF similarity."
   ]
  },
  {
   "cell_type": "code",
   "execution_count": null,
   "id": "8d3690d0",
   "metadata": {},
   "outputs": [],
   "source": [
    "import pandas as pd\n",
    "from sklearn.feature_extraction.text import TfidfVectorizer\n",
    "from sklearn.metrics.pairwise import cosine_similarity\n",
    "\n",
    "# Load dataset\n",
    "df = pd.read_csv(\"symptoms_intent.csv\")\n",
    "symptoms = df['symptom']\n",
    "responses = df['response']\n"
   ]
  },
  {
   "cell_type": "code",
   "execution_count": null,
   "id": "9b5575ff",
   "metadata": {},
   "outputs": [],
   "source": [
    "# Vectorize symptoms using TF-IDF\n",
    "vectorizer = TfidfVectorizer()\n",
    "X = vectorizer.fit_transform(symptoms)\n"
   ]
  },
  {
   "cell_type": "code",
   "execution_count": null,
   "id": "0892384c",
   "metadata": {},
   "outputs": [],
   "source": [
    "# Function to predict response based on new user input\n",
    "def get_response(user_input):\n",
    "    user_vec = vectorizer.transform([user_input])\n",
    "    sim = cosine_similarity(user_vec, X)\n",
    "    idx = sim.argmax()\n",
    "    return responses[idx]\n"
   ]
  },
  {
   "cell_type": "code",
   "execution_count": null,
   "id": "b8e13e5b",
   "metadata": {},
   "outputs": [],
   "source": [
    "# Example usage\n",
    "query = \"I have chest pain\"\n",
    "print(\"User:\", query)\n",
    "print(\"Chatbot:\", get_response(query))\n"
   ]
  }
 ],
 "metadata": {},
 "nbformat": 4,
 "nbformat_minor": 5
}
